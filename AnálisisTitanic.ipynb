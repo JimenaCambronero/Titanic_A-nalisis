{
 "cells": [
  {
   "cell_type": "markdown",
   "metadata": {},
   "source": [
    "# Análisis DatSet Titanic 🚢 "
   ]
  },
  {
   "cell_type": "markdown",
   "metadata": {},
   "source": [
    "### Exploración del DataSet \n",
    "\n",
    "Análisis de los Nulos\n",
    "* Lo primero es hacer un análisis de los nulos\n",
    "* Tendremos que hacer un recuento de los nulos en las columnas"
   ]
  },
  {
   "cell_type": "code",
   "execution_count": 1,
   "metadata": {},
   "outputs": [],
   "source": [
    "import pandas as pd\n",
    "import numpy as np\n",
    "import matplotlib.pyplot as plt\n",
    "import seaborn as sns"
   ]
  },
  {
   "cell_type": "code",
   "execution_count": 2,
   "metadata": {},
   "outputs": [
    {
     "data": {
      "text/html": [
       "<div>\n",
       "<style scoped>\n",
       "    .dataframe tbody tr th:only-of-type {\n",
       "        vertical-align: middle;\n",
       "    }\n",
       "\n",
       "    .dataframe tbody tr th {\n",
       "        vertical-align: top;\n",
       "    }\n",
       "\n",
       "    .dataframe thead th {\n",
       "        text-align: right;\n",
       "    }\n",
       "</style>\n",
       "<table border=\"1\" class=\"dataframe\">\n",
       "  <thead>\n",
       "    <tr style=\"text-align: right;\">\n",
       "      <th></th>\n",
       "      <th>PassengerId</th>\n",
       "      <th>Survived</th>\n",
       "      <th>Pclass</th>\n",
       "      <th>Name</th>\n",
       "      <th>Sex</th>\n",
       "      <th>Age</th>\n",
       "      <th>SibSp</th>\n",
       "      <th>Parch</th>\n",
       "      <th>Ticket</th>\n",
       "      <th>Fare</th>\n",
       "      <th>Cabin</th>\n",
       "      <th>Embarked</th>\n",
       "    </tr>\n",
       "  </thead>\n",
       "  <tbody>\n",
       "    <tr>\n",
       "      <th>0</th>\n",
       "      <td>1</td>\n",
       "      <td>0</td>\n",
       "      <td>3</td>\n",
       "      <td>Braund, Mr. Owen Harris</td>\n",
       "      <td>male</td>\n",
       "      <td>22.0</td>\n",
       "      <td>1</td>\n",
       "      <td>0</td>\n",
       "      <td>A/5 21171</td>\n",
       "      <td>7.2500</td>\n",
       "      <td>NaN</td>\n",
       "      <td>S</td>\n",
       "    </tr>\n",
       "    <tr>\n",
       "      <th>1</th>\n",
       "      <td>2</td>\n",
       "      <td>1</td>\n",
       "      <td>1</td>\n",
       "      <td>Cumings, Mrs. John Bradley (Florence Briggs Th...</td>\n",
       "      <td>female</td>\n",
       "      <td>38.0</td>\n",
       "      <td>1</td>\n",
       "      <td>0</td>\n",
       "      <td>PC 17599</td>\n",
       "      <td>71.2833</td>\n",
       "      <td>C85</td>\n",
       "      <td>C</td>\n",
       "    </tr>\n",
       "    <tr>\n",
       "      <th>2</th>\n",
       "      <td>3</td>\n",
       "      <td>1</td>\n",
       "      <td>3</td>\n",
       "      <td>Heikkinen, Miss. Laina</td>\n",
       "      <td>female</td>\n",
       "      <td>26.0</td>\n",
       "      <td>0</td>\n",
       "      <td>0</td>\n",
       "      <td>STON/O2. 3101282</td>\n",
       "      <td>7.9250</td>\n",
       "      <td>NaN</td>\n",
       "      <td>S</td>\n",
       "    </tr>\n",
       "    <tr>\n",
       "      <th>3</th>\n",
       "      <td>4</td>\n",
       "      <td>1</td>\n",
       "      <td>1</td>\n",
       "      <td>Futrelle, Mrs. Jacques Heath (Lily May Peel)</td>\n",
       "      <td>female</td>\n",
       "      <td>35.0</td>\n",
       "      <td>1</td>\n",
       "      <td>0</td>\n",
       "      <td>113803</td>\n",
       "      <td>53.1000</td>\n",
       "      <td>C123</td>\n",
       "      <td>S</td>\n",
       "    </tr>\n",
       "    <tr>\n",
       "      <th>4</th>\n",
       "      <td>5</td>\n",
       "      <td>0</td>\n",
       "      <td>3</td>\n",
       "      <td>Allen, Mr. William Henry</td>\n",
       "      <td>male</td>\n",
       "      <td>35.0</td>\n",
       "      <td>0</td>\n",
       "      <td>0</td>\n",
       "      <td>373450</td>\n",
       "      <td>8.0500</td>\n",
       "      <td>NaN</td>\n",
       "      <td>S</td>\n",
       "    </tr>\n",
       "  </tbody>\n",
       "</table>\n",
       "</div>"
      ],
      "text/plain": [
       "   PassengerId  Survived  Pclass  \\\n",
       "0            1         0       3   \n",
       "1            2         1       1   \n",
       "2            3         1       3   \n",
       "3            4         1       1   \n",
       "4            5         0       3   \n",
       "\n",
       "                                                Name     Sex   Age  SibSp  \\\n",
       "0                            Braund, Mr. Owen Harris    male  22.0      1   \n",
       "1  Cumings, Mrs. John Bradley (Florence Briggs Th...  female  38.0      1   \n",
       "2                             Heikkinen, Miss. Laina  female  26.0      0   \n",
       "3       Futrelle, Mrs. Jacques Heath (Lily May Peel)  female  35.0      1   \n",
       "4                           Allen, Mr. William Henry    male  35.0      0   \n",
       "\n",
       "   Parch            Ticket     Fare Cabin Embarked  \n",
       "0      0         A/5 21171   7.2500   NaN        S  \n",
       "1      0          PC 17599  71.2833   C85        C  \n",
       "2      0  STON/O2. 3101282   7.9250   NaN        S  \n",
       "3      0            113803  53.1000  C123        S  \n",
       "4      0            373450   8.0500   NaN        S  "
      ]
     },
     "execution_count": 2,
     "metadata": {},
     "output_type": "execute_result"
    }
   ],
   "source": [
    "df = pd.read_csv('/Users/jimenacambronero/Desktop/Proyectos para Portfolio/titanic_raw.csv')\n",
    "\n",
    "#DataFrame muestra.\n",
    "df.head(5)"
   ]
  },
  {
   "cell_type": "markdown",
   "metadata": {},
   "source": [
    "# Formas de explorar nuestro Data"
   ]
  },
  {
   "cell_type": "code",
   "execution_count": 57,
   "metadata": {},
   "outputs": [
    {
     "data": {
      "text/html": [
       "<div>\n",
       "<style scoped>\n",
       "    .dataframe tbody tr th:only-of-type {\n",
       "        vertical-align: middle;\n",
       "    }\n",
       "\n",
       "    .dataframe tbody tr th {\n",
       "        vertical-align: top;\n",
       "    }\n",
       "\n",
       "    .dataframe thead th {\n",
       "        text-align: right;\n",
       "    }\n",
       "</style>\n",
       "<table border=\"1\" class=\"dataframe\">\n",
       "  <thead>\n",
       "    <tr style=\"text-align: right;\">\n",
       "      <th></th>\n",
       "      <th>PassengerId</th>\n",
       "      <th>Survived</th>\n",
       "      <th>Pclass</th>\n",
       "      <th>Name</th>\n",
       "      <th>Sex</th>\n",
       "      <th>Age</th>\n",
       "      <th>SibSp</th>\n",
       "      <th>Parch</th>\n",
       "      <th>Ticket</th>\n",
       "      <th>Fare</th>\n",
       "      <th>Cabin</th>\n",
       "      <th>Embarked</th>\n",
       "      <th>rango_billete</th>\n",
       "      <th>rango_edad</th>\n",
       "    </tr>\n",
       "  </thead>\n",
       "  <tbody>\n",
       "    <tr>\n",
       "      <th>0</th>\n",
       "      <td>True</td>\n",
       "      <td>True</td>\n",
       "      <td>True</td>\n",
       "      <td>True</td>\n",
       "      <td>True</td>\n",
       "      <td>True</td>\n",
       "      <td>True</td>\n",
       "      <td>True</td>\n",
       "      <td>True</td>\n",
       "      <td>True</td>\n",
       "      <td>False</td>\n",
       "      <td>True</td>\n",
       "      <td>True</td>\n",
       "      <td>True</td>\n",
       "    </tr>\n",
       "    <tr>\n",
       "      <th>1</th>\n",
       "      <td>True</td>\n",
       "      <td>True</td>\n",
       "      <td>True</td>\n",
       "      <td>True</td>\n",
       "      <td>True</td>\n",
       "      <td>True</td>\n",
       "      <td>True</td>\n",
       "      <td>True</td>\n",
       "      <td>True</td>\n",
       "      <td>True</td>\n",
       "      <td>True</td>\n",
       "      <td>True</td>\n",
       "      <td>True</td>\n",
       "      <td>True</td>\n",
       "    </tr>\n",
       "    <tr>\n",
       "      <th>2</th>\n",
       "      <td>True</td>\n",
       "      <td>True</td>\n",
       "      <td>True</td>\n",
       "      <td>True</td>\n",
       "      <td>True</td>\n",
       "      <td>True</td>\n",
       "      <td>True</td>\n",
       "      <td>True</td>\n",
       "      <td>True</td>\n",
       "      <td>True</td>\n",
       "      <td>False</td>\n",
       "      <td>True</td>\n",
       "      <td>True</td>\n",
       "      <td>True</td>\n",
       "    </tr>\n",
       "  </tbody>\n",
       "</table>\n",
       "</div>"
      ],
      "text/plain": [
       "   PassengerId  Survived  Pclass  Name   Sex   Age  SibSp  Parch  Ticket  \\\n",
       "0         True      True    True  True  True  True   True   True    True   \n",
       "1         True      True    True  True  True  True   True   True    True   \n",
       "2         True      True    True  True  True  True   True   True    True   \n",
       "\n",
       "   Fare  Cabin  Embarked  rango_billete  rango_edad  \n",
       "0  True  False      True           True        True  \n",
       "1  True   True      True           True        True  \n",
       "2  True  False      True           True        True  "
      ]
     },
     "execution_count": 57,
     "metadata": {},
     "output_type": "execute_result"
    }
   ],
   "source": [
    "# Devolvera valore booleanos \n",
    "df.notnull().head(3)"
   ]
  },
  {
   "cell_type": "code",
   "execution_count": 58,
   "metadata": {},
   "outputs": [
    {
     "data": {
      "text/html": [
       "<div>\n",
       "<style scoped>\n",
       "    .dataframe tbody tr th:only-of-type {\n",
       "        vertical-align: middle;\n",
       "    }\n",
       "\n",
       "    .dataframe tbody tr th {\n",
       "        vertical-align: top;\n",
       "    }\n",
       "\n",
       "    .dataframe thead th {\n",
       "        text-align: right;\n",
       "    }\n",
       "</style>\n",
       "<table border=\"1\" class=\"dataframe\">\n",
       "  <thead>\n",
       "    <tr style=\"text-align: right;\">\n",
       "      <th></th>\n",
       "      <th>PassengerId</th>\n",
       "      <th>Survived</th>\n",
       "      <th>Pclass</th>\n",
       "      <th>Name</th>\n",
       "      <th>Sex</th>\n",
       "      <th>Age</th>\n",
       "      <th>SibSp</th>\n",
       "      <th>Parch</th>\n",
       "      <th>Ticket</th>\n",
       "      <th>Fare</th>\n",
       "      <th>Cabin</th>\n",
       "      <th>Embarked</th>\n",
       "      <th>rango_billete</th>\n",
       "      <th>rango_edad</th>\n",
       "    </tr>\n",
       "  </thead>\n",
       "  <tbody>\n",
       "    <tr>\n",
       "      <th>0</th>\n",
       "      <td>1</td>\n",
       "      <td>0</td>\n",
       "      <td>3</td>\n",
       "      <td>Braund, Mr. Owen Harris</td>\n",
       "      <td>male</td>\n",
       "      <td>22.0</td>\n",
       "      <td>1</td>\n",
       "      <td>0</td>\n",
       "      <td>A/5 21171</td>\n",
       "      <td>7.2500</td>\n",
       "      <td>NaN</td>\n",
       "      <td>S</td>\n",
       "      <td>(-0.001, 7.91]</td>\n",
       "      <td>1</td>\n",
       "    </tr>\n",
       "    <tr>\n",
       "      <th>1</th>\n",
       "      <td>2</td>\n",
       "      <td>1</td>\n",
       "      <td>1</td>\n",
       "      <td>Cumings, Mrs. John Bradley (Florence Briggs Th...</td>\n",
       "      <td>female</td>\n",
       "      <td>38.0</td>\n",
       "      <td>1</td>\n",
       "      <td>0</td>\n",
       "      <td>PC 17599</td>\n",
       "      <td>71.2833</td>\n",
       "      <td>C85</td>\n",
       "      <td>C</td>\n",
       "      <td>(31.0, 512.329]</td>\n",
       "      <td>2</td>\n",
       "    </tr>\n",
       "    <tr>\n",
       "      <th>2</th>\n",
       "      <td>3</td>\n",
       "      <td>1</td>\n",
       "      <td>3</td>\n",
       "      <td>Heikkinen, Miss. Laina</td>\n",
       "      <td>female</td>\n",
       "      <td>26.0</td>\n",
       "      <td>0</td>\n",
       "      <td>0</td>\n",
       "      <td>STON/O2. 3101282</td>\n",
       "      <td>7.9250</td>\n",
       "      <td>NaN</td>\n",
       "      <td>S</td>\n",
       "      <td>(7.91, 14.454]</td>\n",
       "      <td>1</td>\n",
       "    </tr>\n",
       "  </tbody>\n",
       "</table>\n",
       "</div>"
      ],
      "text/plain": [
       "   PassengerId  Survived  Pclass  \\\n",
       "0            1         0       3   \n",
       "1            2         1       1   \n",
       "2            3         1       3   \n",
       "\n",
       "                                                Name     Sex   Age  SibSp  \\\n",
       "0                            Braund, Mr. Owen Harris    male  22.0      1   \n",
       "1  Cumings, Mrs. John Bradley (Florence Briggs Th...  female  38.0      1   \n",
       "2                             Heikkinen, Miss. Laina  female  26.0      0   \n",
       "\n",
       "   Parch            Ticket     Fare Cabin Embarked    rango_billete  \\\n",
       "0      0         A/5 21171   7.2500   NaN        S   (-0.001, 7.91]   \n",
       "1      0          PC 17599  71.2833   C85        C  (31.0, 512.329]   \n",
       "2      0  STON/O2. 3101282   7.9250   NaN        S   (7.91, 14.454]   \n",
       "\n",
       "   rango_edad  \n",
       "0           1  \n",
       "1           2  \n",
       "2           1  "
      ]
     },
     "execution_count": 58,
     "metadata": {},
     "output_type": "execute_result"
    }
   ],
   "source": [
    "df[df.notnull()].head(3)"
   ]
  },
  {
   "cell_type": "code",
   "execution_count": 5,
   "metadata": {},
   "outputs": [
    {
     "data": {
      "text/plain": [
       "PassengerId    891\n",
       "Survived       891\n",
       "Pclass         891\n",
       "Name           891\n",
       "Sex            891\n",
       "Age            714\n",
       "SibSp          891\n",
       "Parch          891\n",
       "Ticket         891\n",
       "Fare           891\n",
       "Cabin          204\n",
       "Embarked       889\n",
       "dtype: int64"
      ]
     },
     "execution_count": 5,
     "metadata": {},
     "output_type": "execute_result"
    }
   ],
   "source": [
    "# Sumatorio de no nulos, las primeras no presentan nulos pero en edad por ejemplo ya aparecen valores nulos\n",
    "df.notnull().sum()"
   ]
  },
  {
   "cell_type": "code",
   "execution_count": 6,
   "metadata": {},
   "outputs": [
    {
     "data": {
      "text/plain": [
       "PassengerId      0\n",
       "Survived         0\n",
       "Pclass           0\n",
       "Name             0\n",
       "Sex              0\n",
       "Age            177\n",
       "SibSp            0\n",
       "Parch            0\n",
       "Ticket           0\n",
       "Fare             0\n",
       "Cabin          687\n",
       "Embarked         2\n",
       "dtype: int64"
      ]
     },
     "execution_count": 6,
     "metadata": {},
     "output_type": "execute_result"
    }
   ],
   "source": [
    "# Misma consulta que la anterior realizada de distinta manera. Se crea una Serie cuyo índice esta dato por las claves del DF.Suma los valores booleanos de cada serie del Df\n",
    "df.isnull().sum()"
   ]
  },
  {
   "cell_type": "code",
   "execution_count": 7,
   "metadata": {},
   "outputs": [
    {
     "data": {
      "text/plain": [
       "Cabin          687\n",
       "Age            177\n",
       "Embarked         2\n",
       "PassengerId      0\n",
       "Survived         0\n",
       "Pclass           0\n",
       "Name             0\n",
       "Sex              0\n",
       "SibSp            0\n",
       "Parch            0\n",
       "Ticket           0\n",
       "Fare             0\n",
       "dtype: int64"
      ]
     },
     "execution_count": 7,
     "metadata": {},
     "output_type": "execute_result"
    }
   ],
   "source": [
    "# Ordenamos la Serie para poder visualizar de una mejor manera los datos faltantes\n",
    "total = df.isnull().sum().sort_values(ascending = False) \n",
    "total"
   ]
  },
  {
   "cell_type": "code",
   "execution_count": 8,
   "metadata": {},
   "outputs": [
    {
     "data": {
      "text/plain": [
       "Cabin          0.771044\n",
       "Age            0.198653\n",
       "Embarked       0.002245\n",
       "PassengerId    0.000000\n",
       "Survived       0.000000\n",
       "Pclass         0.000000\n",
       "Name           0.000000\n",
       "Sex            0.000000\n",
       "SibSp          0.000000\n",
       "Parch          0.000000\n",
       "Ticket         0.000000\n",
       "Fare           0.000000\n",
       "dtype: float64"
      ]
     },
     "execution_count": 8,
     "metadata": {},
     "output_type": "execute_result"
    }
   ],
   "source": [
    "# Construiremos una serie para saber el porcentaje de valores nulos\n",
    "porcentaje = (df.isnull().sum() / df.isnull().count()).sort_values(ascending = False)\n",
    "porcentaje"
   ]
  },
  {
   "cell_type": "code",
   "execution_count": 9,
   "metadata": {},
   "outputs": [
    {
     "data": {
      "text/html": [
       "<div>\n",
       "<style scoped>\n",
       "    .dataframe tbody tr th:only-of-type {\n",
       "        vertical-align: middle;\n",
       "    }\n",
       "\n",
       "    .dataframe tbody tr th {\n",
       "        vertical-align: top;\n",
       "    }\n",
       "\n",
       "    .dataframe thead th {\n",
       "        text-align: right;\n",
       "    }\n",
       "</style>\n",
       "<table border=\"1\" class=\"dataframe\">\n",
       "  <thead>\n",
       "    <tr style=\"text-align: right;\">\n",
       "      <th></th>\n",
       "      <th>total datos</th>\n",
       "      <th>porcentaje de datos faltante</th>\n",
       "    </tr>\n",
       "  </thead>\n",
       "  <tbody>\n",
       "    <tr>\n",
       "      <th>Cabin</th>\n",
       "      <td>687</td>\n",
       "      <td>0.771044</td>\n",
       "    </tr>\n",
       "    <tr>\n",
       "      <th>Age</th>\n",
       "      <td>177</td>\n",
       "      <td>0.198653</td>\n",
       "    </tr>\n",
       "    <tr>\n",
       "      <th>Embarked</th>\n",
       "      <td>2</td>\n",
       "      <td>0.002245</td>\n",
       "    </tr>\n",
       "    <tr>\n",
       "      <th>PassengerId</th>\n",
       "      <td>0</td>\n",
       "      <td>0.000000</td>\n",
       "    </tr>\n",
       "    <tr>\n",
       "      <th>Survived</th>\n",
       "      <td>0</td>\n",
       "      <td>0.000000</td>\n",
       "    </tr>\n",
       "    <tr>\n",
       "      <th>Pclass</th>\n",
       "      <td>0</td>\n",
       "      <td>0.000000</td>\n",
       "    </tr>\n",
       "    <tr>\n",
       "      <th>Name</th>\n",
       "      <td>0</td>\n",
       "      <td>0.000000</td>\n",
       "    </tr>\n",
       "    <tr>\n",
       "      <th>Sex</th>\n",
       "      <td>0</td>\n",
       "      <td>0.000000</td>\n",
       "    </tr>\n",
       "    <tr>\n",
       "      <th>SibSp</th>\n",
       "      <td>0</td>\n",
       "      <td>0.000000</td>\n",
       "    </tr>\n",
       "    <tr>\n",
       "      <th>Parch</th>\n",
       "      <td>0</td>\n",
       "      <td>0.000000</td>\n",
       "    </tr>\n",
       "    <tr>\n",
       "      <th>Ticket</th>\n",
       "      <td>0</td>\n",
       "      <td>0.000000</td>\n",
       "    </tr>\n",
       "    <tr>\n",
       "      <th>Fare</th>\n",
       "      <td>0</td>\n",
       "      <td>0.000000</td>\n",
       "    </tr>\n",
       "  </tbody>\n",
       "</table>\n",
       "</div>"
      ],
      "text/plain": [
       "             total datos  porcentaje de datos faltante\n",
       "Cabin                687                      0.771044\n",
       "Age                  177                      0.198653\n",
       "Embarked               2                      0.002245\n",
       "PassengerId            0                      0.000000\n",
       "Survived               0                      0.000000\n",
       "Pclass                 0                      0.000000\n",
       "Name                   0                      0.000000\n",
       "Sex                    0                      0.000000\n",
       "SibSp                  0                      0.000000\n",
       "Parch                  0                      0.000000\n",
       "Ticket                 0                      0.000000\n",
       "Fare                   0                      0.000000"
      ]
     },
     "execution_count": 9,
     "metadata": {},
     "output_type": "execute_result"
    }
   ],
   "source": [
    "# Construimos un DF con las Series de totales y de porcentajes de valores nulos\n",
    "datos_faltantes = pd.concat([total, porcentaje], axis = 1, keys = ['total datos', 'porcentaje de datos faltante'])\n",
    "datos_faltantes"
   ]
  },
  {
   "cell_type": "markdown",
   "metadata": {},
   "source": [
    "La variable 'Cabin' deberia ser eliminada, ya que casi el 70% de los datos es faltante\n",
    "Lo haríamos con:\n",
    "\n",
    "        df.drop('Cabin', axis = 1, inplace = True)\n",
    "\n",
    "Si quisieramos completar los datos faltantes de edad, una posibilidad es completarlo con un valor atípico\n",
    "Lo haríamos con:\n",
    "\n",
    "        value = 10000\n",
    "        df['Age].fillna(1000, inplace = True)\n",
    "        df['Age'].max()\n",
    "\n",
    "'Embarked' solo tiene dos filas con valores nulos, a estas las podríamos eliminar.\n",
    "Lo haríamos así:\n",
    "\n",
    "        df.drop(df[pd.isnull(df['Embarked'])].index, inplace = True)\n",
    "\n",
    "Si queremos chequear en este caso que ya no existan nulos, una posibilidad es convertir en lista y luego en conjunto, y así podremos ver cuales son los valores repetidos en caso de existir.\n",
    "\n",
    "        set(lis(df['Embarked].isnull()))"
   ]
  },
  {
   "cell_type": "code",
   "execution_count": 10,
   "metadata": {},
   "outputs": [
    {
     "data": {
      "text/plain": [
       "0.19865319865319866"
      ]
     },
     "execution_count": 10,
     "metadata": {},
     "output_type": "execute_result"
    }
   ],
   "source": [
    "# Promedios de nulos en 'Age'\n",
    "df.Age.isnull().mean()"
   ]
  },
  {
   "cell_type": "code",
   "execution_count": 11,
   "metadata": {},
   "outputs": [
    {
     "data": {
      "text/plain": [
       "0.7710437710437711"
      ]
     },
     "execution_count": 11,
     "metadata": {},
     "output_type": "execute_result"
    }
   ],
   "source": [
    "# Promedio de nulos en 'Cabin'\n",
    "df.Cabin.isnull().mean()"
   ]
  },
  {
   "cell_type": "code",
   "execution_count": 12,
   "metadata": {},
   "outputs": [
    {
     "data": {
      "text/html": [
       "<div>\n",
       "<style scoped>\n",
       "    .dataframe tbody tr th:only-of-type {\n",
       "        vertical-align: middle;\n",
       "    }\n",
       "\n",
       "    .dataframe tbody tr th {\n",
       "        vertical-align: top;\n",
       "    }\n",
       "\n",
       "    .dataframe thead th {\n",
       "        text-align: right;\n",
       "    }\n",
       "</style>\n",
       "<table border=\"1\" class=\"dataframe\">\n",
       "  <thead>\n",
       "    <tr style=\"text-align: right;\">\n",
       "      <th></th>\n",
       "      <th>PassengerId</th>\n",
       "      <th>Survived</th>\n",
       "      <th>Pclass</th>\n",
       "      <th>Age</th>\n",
       "      <th>SibSp</th>\n",
       "      <th>Parch</th>\n",
       "      <th>Fare</th>\n",
       "    </tr>\n",
       "  </thead>\n",
       "  <tbody>\n",
       "    <tr>\n",
       "      <th>count</th>\n",
       "      <td>891.000000</td>\n",
       "      <td>891.000000</td>\n",
       "      <td>891.000000</td>\n",
       "      <td>714.000000</td>\n",
       "      <td>891.000000</td>\n",
       "      <td>891.000000</td>\n",
       "      <td>891.000000</td>\n",
       "    </tr>\n",
       "    <tr>\n",
       "      <th>mean</th>\n",
       "      <td>446.000000</td>\n",
       "      <td>0.383838</td>\n",
       "      <td>2.308642</td>\n",
       "      <td>29.699118</td>\n",
       "      <td>0.523008</td>\n",
       "      <td>0.381594</td>\n",
       "      <td>32.204208</td>\n",
       "    </tr>\n",
       "    <tr>\n",
       "      <th>std</th>\n",
       "      <td>257.353842</td>\n",
       "      <td>0.486592</td>\n",
       "      <td>0.836071</td>\n",
       "      <td>14.526497</td>\n",
       "      <td>1.102743</td>\n",
       "      <td>0.806057</td>\n",
       "      <td>49.693429</td>\n",
       "    </tr>\n",
       "    <tr>\n",
       "      <th>min</th>\n",
       "      <td>1.000000</td>\n",
       "      <td>0.000000</td>\n",
       "      <td>1.000000</td>\n",
       "      <td>0.420000</td>\n",
       "      <td>0.000000</td>\n",
       "      <td>0.000000</td>\n",
       "      <td>0.000000</td>\n",
       "    </tr>\n",
       "    <tr>\n",
       "      <th>25%</th>\n",
       "      <td>223.500000</td>\n",
       "      <td>0.000000</td>\n",
       "      <td>2.000000</td>\n",
       "      <td>20.125000</td>\n",
       "      <td>0.000000</td>\n",
       "      <td>0.000000</td>\n",
       "      <td>7.910400</td>\n",
       "    </tr>\n",
       "    <tr>\n",
       "      <th>50%</th>\n",
       "      <td>446.000000</td>\n",
       "      <td>0.000000</td>\n",
       "      <td>3.000000</td>\n",
       "      <td>28.000000</td>\n",
       "      <td>0.000000</td>\n",
       "      <td>0.000000</td>\n",
       "      <td>14.454200</td>\n",
       "    </tr>\n",
       "    <tr>\n",
       "      <th>75%</th>\n",
       "      <td>668.500000</td>\n",
       "      <td>1.000000</td>\n",
       "      <td>3.000000</td>\n",
       "      <td>38.000000</td>\n",
       "      <td>1.000000</td>\n",
       "      <td>0.000000</td>\n",
       "      <td>31.000000</td>\n",
       "    </tr>\n",
       "    <tr>\n",
       "      <th>max</th>\n",
       "      <td>891.000000</td>\n",
       "      <td>1.000000</td>\n",
       "      <td>3.000000</td>\n",
       "      <td>80.000000</td>\n",
       "      <td>8.000000</td>\n",
       "      <td>6.000000</td>\n",
       "      <td>512.329200</td>\n",
       "    </tr>\n",
       "  </tbody>\n",
       "</table>\n",
       "</div>"
      ],
      "text/plain": [
       "       PassengerId    Survived      Pclass         Age       SibSp  \\\n",
       "count   891.000000  891.000000  891.000000  714.000000  891.000000   \n",
       "mean    446.000000    0.383838    2.308642   29.699118    0.523008   \n",
       "std     257.353842    0.486592    0.836071   14.526497    1.102743   \n",
       "min       1.000000    0.000000    1.000000    0.420000    0.000000   \n",
       "25%     223.500000    0.000000    2.000000   20.125000    0.000000   \n",
       "50%     446.000000    0.000000    3.000000   28.000000    0.000000   \n",
       "75%     668.500000    1.000000    3.000000   38.000000    1.000000   \n",
       "max     891.000000    1.000000    3.000000   80.000000    8.000000   \n",
       "\n",
       "            Parch        Fare  \n",
       "count  891.000000  891.000000  \n",
       "mean     0.381594   32.204208  \n",
       "std      0.806057   49.693429  \n",
       "min      0.000000    0.000000  \n",
       "25%      0.000000    7.910400  \n",
       "50%      0.000000   14.454200  \n",
       "75%      0.000000   31.000000  \n",
       "max      6.000000  512.329200  "
      ]
     },
     "execution_count": 12,
     "metadata": {},
     "output_type": "execute_result"
    }
   ],
   "source": [
    "# Para estadisticas descriptivas vemos los números. Muestra variables cuantitativas. Podemos observar valores atípicos como 512.\n",
    "df.describe()"
   ]
  },
  {
   "cell_type": "code",
   "execution_count": 13,
   "metadata": {},
   "outputs": [
    {
     "data": {
      "text/plain": [
       "(891, 12)"
      ]
     },
     "execution_count": 13,
     "metadata": {},
     "output_type": "execute_result"
    }
   ],
   "source": [
    "# Dimensiones del DF\n",
    "df.shape"
   ]
  },
  {
   "cell_type": "code",
   "execution_count": 14,
   "metadata": {},
   "outputs": [
    {
     "data": {
      "text/plain": [
       "Index(['PassengerId', 'Survived', 'Pclass', 'Name', 'Sex', 'Age', 'SibSp',\n",
       "       'Parch', 'Ticket', 'Fare', 'Cabin', 'Embarked'],\n",
       "      dtype='object')"
      ]
     },
     "execution_count": 14,
     "metadata": {},
     "output_type": "execute_result"
    }
   ],
   "source": [
    "df.columns"
   ]
  },
  {
   "cell_type": "markdown",
   "metadata": {},
   "source": [
    "Pasajeros según clase"
   ]
  },
  {
   "cell_type": "code",
   "execution_count": 15,
   "metadata": {},
   "outputs": [
    {
     "name": "stdout",
     "output_type": "stream",
     "text": [
      "Total de Pasajeros en Primera Clase: 216\n",
      "Total de Pasajeros en Segunda Clase: 184\n",
      "Total de Pasajeros en Tercera Clase: 491\n"
     ]
    }
   ],
   "source": [
    "primera_clase = (df['Pclass'] == 1).sum()\n",
    "segunda_clase = (df['Pclass'] == 2).sum()\n",
    "tercera_clase = (df['Pclass'] == 3).sum()\n",
    "print('Total de Pasajeros en Primera Clase:', primera_clase)\n",
    "print('Total de Pasajeros en Segunda Clase:', segunda_clase)\n",
    "print('Total de Pasajeros en Tercera Clase:', tercera_clase)"
   ]
  },
  {
   "cell_type": "code",
   "execution_count": 16,
   "metadata": {},
   "outputs": [
    {
     "data": {
      "image/png": "[encoded data removed]",
      "text/plain": [
       "<Figure size 1000x600 with 1 Axes>"
      ]
     },
     "metadata": {},
     "output_type": "display_data"
    }
   ],
   "source": [
    "#Dado un conjunto de categorías o grupos con sus correspondientes valores puedes utilizar la función pie de matplotlib para crear un diagrama de sectores, también llamado gráfico circular o pie chart en inglés\n",
    "plt.figure(figsize=(10,6))\n",
    "\n",
    "labels = ['Primera Clase', 'Segunda Clase', 'Tercera Clase' ]\n",
    "sizes = [primera_clase, segunda_clase, tercera_clase]\n",
    "\n",
    "# Podemos “explotar” sectores del gráfico pasando un array del mismo tamaño que los datos a explode\n",
    "explode = [0, 0, 0.1]\n",
    "\n",
    "# También se puede mostrar la cuenta o los porcentajes para cada sector con el argumento autopct, tal y como se observa a continuación.\n",
    "plt.pie(sizes, labels=labels, autopct='%1.1f%%', explode = explode )\n",
    "plt.title('Distribución de pasajeros según Clase')\n",
    "\n",
    "plt.show()"
   ]
  },
  {
   "cell_type": "markdown",
   "metadata": {},
   "source": [
    "Supervivientes según Clase"
   ]
  },
  {
   "cell_type": "code",
   "execution_count": 17,
   "metadata": {},
   "outputs": [
    {
     "data": {
      "image/png": "[encoded data removed]",
      "text/plain": [
       "<Figure size 1000x600 with 1 Axes>"
      ]
     },
     "metadata": {},
     "output_type": "display_data"
    }
   ],
   "source": [
    "\n",
    "# La función countplot permite representar el número de observaciones para cada grupo de una variable categórica mediante barras.\n",
    "\n",
    "# Configuramos el estilo del gráfico\n",
    "plt.figure(figsize=(10,6))\n",
    "sns.set_style(\"darkgrid\")\n",
    "\n",
    "# Creamos el gráfico de barras\n",
    "sns.countplot(x ='Pclass', hue ='Survived', data=df)\n",
    "\n",
    "# Ponemos títulos\n",
    "plt.title('Sobrevivientes según Clase')\n",
    "plt.xlabel('Clase')\n",
    "plt.ylabel('Cantidad')\n",
    "plt.legend(['Fallecidos', 'Sorevivientes'])\n",
    "\n",
    "# Mostramos el gráfico\n",
    "plt.show()\n"
   ]
  },
  {
   "cell_type": "markdown",
   "metadata": {},
   "source": [
    "Superviviencia según Género y Clase"
   ]
  },
  {
   "cell_type": "code",
   "execution_count": 18,
   "metadata": {},
   "outputs": [
    {
     "data": {
      "text/html": [
       "<style type=\"text/css\">\n",
       "#T_36a8b_row0_col0, #T_36a8b_row0_col1, #T_36a8b_row0_col3, #T_36a8b_row3_col2 {\n",
       "  background-color: #ffff66;\n",
       "  color: #000000;\n",
       "}\n",
       "#T_36a8b_row0_col2, #T_36a8b_row1_col2 {\n",
       "  background-color: #f1f866;\n",
       "  color: #000000;\n",
       "}\n",
       "#T_36a8b_row1_col0 {\n",
       "  background-color: #96cb66;\n",
       "  color: #000000;\n",
       "}\n",
       "#T_36a8b_row1_col1 {\n",
       "  background-color: #a3d166;\n",
       "  color: #000000;\n",
       "}\n",
       "#T_36a8b_row1_col3 {\n",
       "  background-color: #cfe766;\n",
       "  color: #000000;\n",
       "}\n",
       "#T_36a8b_row2_col0 {\n",
       "  background-color: #a7d366;\n",
       "  color: #000000;\n",
       "}\n",
       "#T_36a8b_row2_col1, #T_36a8b_row2_col3 {\n",
       "  background-color: #85c266;\n",
       "  color: #000000;\n",
       "}\n",
       "#T_36a8b_row2_col2 {\n",
       "  background-color: #6eb666;\n",
       "  color: #f1f1f1;\n",
       "}\n",
       "#T_36a8b_row3_col0 {\n",
       "  background-color: #cde666;\n",
       "  color: #000000;\n",
       "}\n",
       "#T_36a8b_row3_col1 {\n",
       "  background-color: #f0f866;\n",
       "  color: #000000;\n",
       "}\n",
       "#T_36a8b_row3_col3 {\n",
       "  background-color: #f7fb66;\n",
       "  color: #000000;\n",
       "}\n",
       "#T_36a8b_row4_col0, #T_36a8b_row4_col1, #T_36a8b_row4_col2, #T_36a8b_row4_col3 {\n",
       "  background-color: #008066;\n",
       "  color: #f1f1f1;\n",
       "}\n",
       "</style>\n",
       "<table id=\"T_36a8b\">\n",
       "  <thead>\n",
       "    <tr>\n",
       "      <th class=\"blank\" >&nbsp;</th>\n",
       "      <th class=\"index_name level0\" >Pclass</th>\n",
       "      <th id=\"T_36a8b_level0_col0\" class=\"col_heading level0 col0\" >1</th>\n",
       "      <th id=\"T_36a8b_level0_col1\" class=\"col_heading level0 col1\" >2</th>\n",
       "      <th id=\"T_36a8b_level0_col2\" class=\"col_heading level0 col2\" >3</th>\n",
       "      <th id=\"T_36a8b_level0_col3\" class=\"col_heading level0 col3\" >All</th>\n",
       "    </tr>\n",
       "    <tr>\n",
       "      <th class=\"index_name level0\" >Sex</th>\n",
       "      <th class=\"index_name level1\" >Survived</th>\n",
       "      <th class=\"blank col0\" >&nbsp;</th>\n",
       "      <th class=\"blank col1\" >&nbsp;</th>\n",
       "      <th class=\"blank col2\" >&nbsp;</th>\n",
       "      <th class=\"blank col3\" >&nbsp;</th>\n",
       "    </tr>\n",
       "  </thead>\n",
       "  <tbody>\n",
       "    <tr>\n",
       "      <th id=\"T_36a8b_level0_row0\" class=\"row_heading level0 row0\" rowspan=\"2\">female</th>\n",
       "      <th id=\"T_36a8b_level1_row0\" class=\"row_heading level1 row0\" >0</th>\n",
       "      <td id=\"T_36a8b_row0_col0\" class=\"data row0 col0\" >3</td>\n",
       "      <td id=\"T_36a8b_row0_col1\" class=\"data row0 col1\" >6</td>\n",
       "      <td id=\"T_36a8b_row0_col2\" class=\"data row0 col2\" >72</td>\n",
       "      <td id=\"T_36a8b_row0_col3\" class=\"data row0 col3\" >81</td>\n",
       "    </tr>\n",
       "    <tr>\n",
       "      <th id=\"T_36a8b_level1_row1\" class=\"row_heading level1 row1\" >1</th>\n",
       "      <td id=\"T_36a8b_row1_col0\" class=\"data row1 col0\" >91</td>\n",
       "      <td id=\"T_36a8b_row1_col1\" class=\"data row1 col1\" >70</td>\n",
       "      <td id=\"T_36a8b_row1_col2\" class=\"data row1 col2\" >72</td>\n",
       "      <td id=\"T_36a8b_row1_col3\" class=\"data row1 col3\" >233</td>\n",
       "    </tr>\n",
       "    <tr>\n",
       "      <th id=\"T_36a8b_level0_row2\" class=\"row_heading level0 row2\" rowspan=\"2\">male</th>\n",
       "      <th id=\"T_36a8b_level1_row2\" class=\"row_heading level1 row2\" >0</th>\n",
       "      <td id=\"T_36a8b_row2_col0\" class=\"data row2 col0\" >77</td>\n",
       "      <td id=\"T_36a8b_row2_col1\" class=\"data row2 col1\" >91</td>\n",
       "      <td id=\"T_36a8b_row2_col2\" class=\"data row2 col2\" >300</td>\n",
       "      <td id=\"T_36a8b_row2_col3\" class=\"data row2 col3\" >468</td>\n",
       "    </tr>\n",
       "    <tr>\n",
       "      <th id=\"T_36a8b_level1_row3\" class=\"row_heading level1 row3\" >1</th>\n",
       "      <td id=\"T_36a8b_row3_col0\" class=\"data row3 col0\" >45</td>\n",
       "      <td id=\"T_36a8b_row3_col1\" class=\"data row3 col1\" >17</td>\n",
       "      <td id=\"T_36a8b_row3_col2\" class=\"data row3 col2\" >47</td>\n",
       "      <td id=\"T_36a8b_row3_col3\" class=\"data row3 col3\" >109</td>\n",
       "    </tr>\n",
       "    <tr>\n",
       "      <th id=\"T_36a8b_level0_row4\" class=\"row_heading level0 row4\" >All</th>\n",
       "      <th id=\"T_36a8b_level1_row4\" class=\"row_heading level1 row4\" ></th>\n",
       "      <td id=\"T_36a8b_row4_col0\" class=\"data row4 col0\" >216</td>\n",
       "      <td id=\"T_36a8b_row4_col1\" class=\"data row4 col1\" >184</td>\n",
       "      <td id=\"T_36a8b_row4_col2\" class=\"data row4 col2\" >491</td>\n",
       "      <td id=\"T_36a8b_row4_col3\" class=\"data row4 col3\" >891</td>\n",
       "    </tr>\n",
       "  </tbody>\n",
       "</table>\n"
      ],
      "text/plain": [
       "<pandas.io.formats.style.Styler at 0x12866cd90>"
      ]
     },
     "execution_count": 18,
     "metadata": {},
     "output_type": "execute_result"
    }
   ],
   "source": [
    "# Grafico cruzando datos, info de sexo, supervivencia y clase.\n",
    "pd.crosstab ([ df['Sex'], df['Survived']], df['Pclass'], margins=True).style.background_gradient(cmap='summer_r')"
   ]
  },
  {
   "cell_type": "code",
   "execution_count": 19,
   "metadata": {},
   "outputs": [
    {
     "data": {
      "image/png": "[encoded data removed]",
      "text/plain": [
       "<Figure size 1091.88x500 with 2 Axes>"
      ]
     },
     "metadata": {},
     "output_type": "display_data"
    }
   ],
   "source": [
    "# Creamos dos subgráficos que desglosan la cantidad de fallecidos y sobrevivientes del Titanic según la clase y el género. Las mujeres, especialmente en primera y segunda clase, tienen una mayor tasa de supervivencia.\n",
    "# Cómo se crea el gráfico: Se usa sns.catplot para crear un gráfico de barras con las variables Pclass y Sex, desglosado por la variable Survived. Configuramos las etiquetas de los ejes y los títulos de los subgráficos. Se crea el gráfico de barras usando sns.catplot. Se establecen las etiquetas de los ejes con g.set_axis_labels. Se ajustan los títulos de las columnas individualmente usando un bucle para iterar sobre los ejes (g.axes.flat). Se muestra el gráfico con plt.show().\n",
    "\n",
    "sns.set_style(\"darkgrid\")\n",
    "\n",
    "# Creamos el gráfico de barras\n",
    "g = sns.catplot(x='Pclass', hue='Sex', col='Survived', data=df, kind='count', height=5, aspect=1)\n",
    "\n",
    "# Ponemos títulos para cada subplot\n",
    "g.set_axis_labels(\"Clase\", \"Cantidad\")\n",
    "g.set_titles(col_template=\"{col_name}\")\n",
    "\n",
    "# Ajustamos los títulos de las columnas\n",
    "for ax, title in zip(g.axes.flat, [\"Fallecidos según Clase y Género\", \"Sobrevivientes según Clase y Género\"]):\n",
    "    ax.set_title(title)\n",
    "\n",
    "# Mostramos el gráfico\n",
    "plt.show()"
   ]
  },
  {
   "cell_type": "markdown",
   "metadata": {},
   "source": [
    "Las mujeres, especialmente en primera y segunda clase, tienen una mayor tasa de supervivencia."
   ]
  },
  {
   "cell_type": "markdown",
   "metadata": {},
   "source": [
    "Analisis por sexo\n",
    "- Si hacemos un recuento, podemos ver cómo se distribuyen los datos en las columnas\n",
    "\n",
    "Análisis por edades\n",
    "* ¿Cuál es la edad mínima y la máxima?\n",
    "* ¿Cuál es la media de edad de las mujeres embarcadas? ¿Y la de hombres?\n",
    "* Explora los datos para analizar sus recuentos en función de distintas edades"
   ]
  },
  {
   "cell_type": "code",
   "execution_count": 20,
   "metadata": {},
   "outputs": [
    {
     "data": {
      "text/plain": [
       "0      False\n",
       "1       True\n",
       "2       True\n",
       "3       True\n",
       "4      False\n",
       "       ...  \n",
       "886    False\n",
       "887     True\n",
       "888     True\n",
       "889    False\n",
       "890    False\n",
       "Name: Sex, Length: 891, dtype: bool"
      ]
     },
     "execution_count": 20,
     "metadata": {},
     "output_type": "execute_result"
    }
   ],
   "source": [
    "df.Sex == 'female'"
   ]
  },
  {
   "cell_type": "code",
   "execution_count": 21,
   "metadata": {},
   "outputs": [
    {
     "data": {
      "text/plain": [
       "PassengerId    314\n",
       "Survived       314\n",
       "Pclass         314\n",
       "Name           314\n",
       "Sex            314\n",
       "Age            261\n",
       "SibSp          314\n",
       "Parch          314\n",
       "Ticket         314\n",
       "Fare           314\n",
       "Cabin           97\n",
       "Embarked       312\n",
       "dtype: int64"
      ]
     },
     "execution_count": 21,
     "metadata": {},
     "output_type": "execute_result"
    }
   ],
   "source": [
    "# Devuelve el dataframe filtrado según género\n",
    "mujeres= df[df.Sex == 'female'].count()\n",
    "mujeres"
   ]
  },
  {
   "cell_type": "code",
   "execution_count": 22,
   "metadata": {},
   "outputs": [
    {
     "data": {
      "text/plain": [
       "PassengerId    577\n",
       "Survived       577\n",
       "Pclass         577\n",
       "Name           577\n",
       "Sex            577\n",
       "Age            453\n",
       "SibSp          577\n",
       "Parch          577\n",
       "Ticket         577\n",
       "Fare           577\n",
       "Cabin          107\n",
       "Embarked       577\n",
       "dtype: int64"
      ]
     },
     "execution_count": 22,
     "metadata": {},
     "output_type": "execute_result"
    }
   ],
   "source": [
    "hombres = df[df.Sex == 'male'].count()\n",
    "hombres"
   ]
  },
  {
   "cell_type": "code",
   "execution_count": 23,
   "metadata": {},
   "outputs": [
    {
     "data": {
      "image/png": "[encoded data removed]",
      "text/plain": [
       "<Figure size 1000x600 with 1 Axes>"
      ]
     },
     "metadata": {},
     "output_type": "display_data"
    }
   ],
   "source": [
    "# Tema\n",
    "sns.set_style(style='darkgrid')\n",
    "plt.figure(figsize=(10,6))\n",
    "\n",
    "# Gráfico de barra \n",
    "sns.barplot(data = df, x = 'Sex', y = 'PassengerId',\n",
    "            color = \"darkseagreen\",\n",
    "            saturation = 0.75)\n",
    "\n",
    "# Agregamos los titulos del gráfico\n",
    "plt.title('Pasajeros según género')\n",
    "plt.xlabel('Género')\n",
    "plt.ylabel('Pasajeros')\n",
    "plt.show()"
   ]
  },
  {
   "cell_type": "markdown",
   "metadata": {},
   "source": [
    "Análisis por edad"
   ]
  },
  {
   "cell_type": "code",
   "execution_count": 24,
   "metadata": {},
   "outputs": [
    {
     "data": {
      "image/png": "[encoded data removed]",
      "text/plain": [
       "<Figure size 640x480 with 1 Axes>"
      ]
     },
     "metadata": {},
     "output_type": "display_data"
    }
   ],
   "source": [
    "# Grafico de distribución de los pasajeros por edad.\n",
    "\n",
    "#En un histograma, el eje x es una línea numérica que se ha dividido en rangos de números o bins. Para cada bin, se dibuja una barra en la que el ancho de la barra representa el rango del bin y la altura de la barra representa el número de puntos de datos incluidos en ese rango.\n",
    "\n",
    "df.hist(column='Age', bins = 40, color = \"red\", alpha = 0.7)\n",
    "\n",
    "# Agregamos los titulos del gráfico\n",
    "plt.title('Distribución según Edad')\n",
    "plt.xlabel ('Edad')\n",
    "plt.ylabel('Cantidad')\n",
    "\n",
    "# Mostramos el gráfico\n",
    "plt.show()"
   ]
  },
  {
   "cell_type": "code",
   "execution_count": 25,
   "metadata": {},
   "outputs": [
    {
     "data": {
      "text/plain": [
       "0.42"
      ]
     },
     "execution_count": 25,
     "metadata": {},
     "output_type": "execute_result"
    }
   ],
   "source": [
    "# Edad Mínima\n",
    "df.Age.min()"
   ]
  },
  {
   "cell_type": "code",
   "execution_count": 26,
   "metadata": {},
   "outputs": [
    {
     "data": {
      "text/plain": [
       "80.0"
      ]
     },
     "execution_count": 26,
     "metadata": {},
     "output_type": "execute_result"
    }
   ],
   "source": [
    "# Edad Máxima\n",
    "df.Age.max()"
   ]
  },
  {
   "cell_type": "code",
   "execution_count": 27,
   "metadata": {},
   "outputs": [
    {
     "data": {
      "text/plain": [
       "1      38.0\n",
       "2      26.0\n",
       "3      35.0\n",
       "8      27.0\n",
       "9      14.0\n",
       "       ... \n",
       "880    25.0\n",
       "882    22.0\n",
       "885    39.0\n",
       "887    19.0\n",
       "888     NaN\n",
       "Name: Age, Length: 314, dtype: float64"
      ]
     },
     "execution_count": 27,
     "metadata": {},
     "output_type": "execute_result"
    }
   ],
   "source": [
    "# Edad filtrada por sexo\n",
    "df.Age[df.Sex == 'female']"
   ]
  },
  {
   "cell_type": "code",
   "execution_count": 28,
   "metadata": {},
   "outputs": [
    {
     "data": {
      "text/plain": [
       "27.915708812260537"
      ]
     },
     "execution_count": 28,
     "metadata": {},
     "output_type": "execute_result"
    }
   ],
   "source": [
    "# Promedio de edad filtrada por sexo\n",
    "df.Age[df.Sex == 'female'].mean()"
   ]
  },
  {
   "cell_type": "code",
   "execution_count": 29,
   "metadata": {},
   "outputs": [
    {
     "data": {
      "text/plain": [
       "30.72664459161148"
      ]
     },
     "execution_count": 29,
     "metadata": {},
     "output_type": "execute_result"
    }
   ],
   "source": [
    "# Promedio de edad filtrada por sexo Masculino\n",
    "df.Age[df.Sex == 'male'].mean()"
   ]
  },
  {
   "cell_type": "code",
   "execution_count": 30,
   "metadata": {},
   "outputs": [
    {
     "data": {
      "text/plain": [
       "PassengerId    575\n",
       "Survived       575\n",
       "Pclass         575\n",
       "Name           575\n",
       "Sex            575\n",
       "Age            575\n",
       "SibSp          575\n",
       "Parch          575\n",
       "Ticket         575\n",
       "Fare           575\n",
       "Cabin          162\n",
       "Embarked       573\n",
       "dtype: int64"
      ]
     },
     "execution_count": 30,
     "metadata": {},
     "output_type": "execute_result"
    }
   ],
   "source": [
    "# Conteo mayores de edad sin distinción de sexo\n",
    "df[(df.Age > 18)].count()"
   ]
  },
  {
   "cell_type": "code",
   "execution_count": 31,
   "metadata": {},
   "outputs": [
    {
     "data": {
      "text/plain": [
       "PassengerId    113\n",
       "Survived       113\n",
       "Pclass         113\n",
       "Name           113\n",
       "Sex            113\n",
       "Age            113\n",
       "SibSp          113\n",
       "Parch          113\n",
       "Ticket         113\n",
       "Fare           113\n",
       "Cabin           19\n",
       "Embarked       113\n",
       "dtype: int64"
      ]
     },
     "execution_count": 31,
     "metadata": {},
     "output_type": "execute_result"
    }
   ],
   "source": [
    "# Conteo menores de edad sin distinción de sexo\n",
    "df[(df.Age < 18)].count()"
   ]
  },
  {
   "cell_type": "markdown",
   "metadata": {},
   "source": [
    "Sobrevivientes\n",
    "\n",
    "* ¿En qué proporción sobrevivieron los pasajeros?"
   ]
  },
  {
   "cell_type": "code",
   "execution_count": 32,
   "metadata": {},
   "outputs": [
    {
     "data": {
      "text/plain": [
       "891"
      ]
     },
     "execution_count": 32,
     "metadata": {},
     "output_type": "execute_result"
    }
   ],
   "source": [
    "# Proporción de pasajeros sobrevivientes. De la siguiente manera obtendremos un conteo de filas. No de verdaderos sobrevivientes\n",
    "df.Survived.count()"
   ]
  },
  {
   "cell_type": "code",
   "execution_count": 33,
   "metadata": {},
   "outputs": [
    {
     "data": {
      "text/plain": [
       "342"
      ]
     },
     "execution_count": 33,
     "metadata": {},
     "output_type": "execute_result"
    }
   ],
   "source": [
    "# Sumamos los sobrevivientes.\n",
    "df.Survived.sum()"
   ]
  },
  {
   "cell_type": "markdown",
   "metadata": {},
   "source": [
    "¿Qué caracteristicas tenían los que sobrevivieron?"
   ]
  },
  {
   "cell_type": "code",
   "execution_count": 34,
   "metadata": {},
   "outputs": [
    {
     "data": {
      "text/plain": [
       "549"
      ]
     },
     "execution_count": 34,
     "metadata": {},
     "output_type": "execute_result"
    }
   ],
   "source": [
    "# Filtramos 0 = NO, 1= SI\n",
    "df.Survived[df.Survived == 0].count()"
   ]
  },
  {
   "cell_type": "code",
   "execution_count": 35,
   "metadata": {},
   "outputs": [
    {
     "data": {
      "text/plain": [
       "342"
      ]
     },
     "execution_count": 35,
     "metadata": {},
     "output_type": "execute_result"
    }
   ],
   "source": [
    "df.Survived[df.Survived == 1].count()"
   ]
  },
  {
   "cell_type": "code",
   "execution_count": 36,
   "metadata": {},
   "outputs": [
    {
     "data": {
      "image/png": "[encoded data removed]",
      "text/plain": [
       "<Figure size 1000x600 with 1 Axes>"
      ]
     },
     "metadata": {},
     "output_type": "display_data"
    }
   ],
   "source": [
    "# Gráfico de distribución de fallecimientos y sobrevivientes según edad.\n",
    "plt.figure(figsize=(10,6))\n",
    "\n",
    "axs = sns.kdeplot(df.Age[df.Survived == 0], fill = True, color = 'red', label = 'Fallecido')\n",
    "axs = sns.kdeplot(df.Age[df.Survived == 1], color = 'Green', label = 'Sobreviviente')\n",
    "\n",
    "# Titulos del gráfico\n",
    "plt.title('Fallecimientos y sobrevivientes según edad')\n",
    "plt.xlabel('Edad')\n",
    "plt.ylabel('Distribución')\n",
    "plt.legend({'Fallecidos', 'Sobrevivientes'})\n",
    "\n",
    "# Mostramos el gráfico\n",
    "plt.show()"
   ]
  },
  {
   "cell_type": "code",
   "execution_count": 37,
   "metadata": {},
   "outputs": [
    {
     "data": {
      "text/plain": [
       "38.38"
      ]
     },
     "execution_count": 37,
     "metadata": {},
     "output_type": "execute_result"
    }
   ],
   "source": [
    "# Casi el 40 % sobrevivió\n",
    "round(df.Survived[df.Survived == 1].count() / df.Survived.count() * 100,2)"
   ]
  },
  {
   "cell_type": "markdown",
   "metadata": {},
   "source": [
    "## Análisis según costo del Billete (característica continua)"
   ]
  },
  {
   "cell_type": "code",
   "execution_count": 38,
   "metadata": {},
   "outputs": [
    {
     "name": "stdout",
     "output_type": "stream",
     "text": [
      "El billete más caro: 512.3292\n",
      "El billete más económico: 0.0\n"
     ]
    }
   ],
   "source": [
    "# Valor máximo sy mínimos de billetes\n",
    "print('El billete más caro:', df['Fare'].max())\n",
    "print('El billete más económico:', df['Fare'].min())"
   ]
  },
  {
   "cell_type": "markdown",
   "metadata": {},
   "source": [
    "#### Agruparemos en rangos los Billetes para poder analizarlos con variables categóricas"
   ]
  },
  {
   "cell_type": "code",
   "execution_count": 39,
   "metadata": {},
   "outputs": [
    {
     "name": "stderr",
     "output_type": "stream",
     "text": [
      "/var/folders/2d/p3zg32ds4p598pyxblpsp5ph0000gn/T/ipykernel_2086/4201534782.py:2: FutureWarning: The default of observed=False is deprecated and will be changed to True in a future version of pandas. Pass observed=False to retain current behavior or observed=True to adopt the future default and silence this warning.\n",
      "  df.groupby(['rango_billete']) ['Survived'].mean().to_frame().style.background_gradient(cmap='summer_r')\n"
     ]
    },
    {
     "data": {
      "text/html": [
       "<style type=\"text/css\">\n",
       "#T_47b6b_row0_col0 {\n",
       "  background-color: #ffff66;\n",
       "  color: #000000;\n",
       "}\n",
       "#T_47b6b_row1_col0 {\n",
       "  background-color: #b9dc66;\n",
       "  color: #000000;\n",
       "}\n",
       "#T_47b6b_row2_col0 {\n",
       "  background-color: #54aa66;\n",
       "  color: #f1f1f1;\n",
       "}\n",
       "#T_47b6b_row3_col0 {\n",
       "  background-color: #008066;\n",
       "  color: #f1f1f1;\n",
       "}\n",
       "</style>\n",
       "<table id=\"T_47b6b\">\n",
       "  <thead>\n",
       "    <tr>\n",
       "      <th class=\"blank level0\" >&nbsp;</th>\n",
       "      <th id=\"T_47b6b_level0_col0\" class=\"col_heading level0 col0\" >Survived</th>\n",
       "    </tr>\n",
       "    <tr>\n",
       "      <th class=\"index_name level0\" >rango_billete</th>\n",
       "      <th class=\"blank col0\" >&nbsp;</th>\n",
       "    </tr>\n",
       "  </thead>\n",
       "  <tbody>\n",
       "    <tr>\n",
       "      <th id=\"T_47b6b_level0_row0\" class=\"row_heading level0 row0\" >(-0.001, 7.91]</th>\n",
       "      <td id=\"T_47b6b_row0_col0\" class=\"data row0 col0\" >0.197309</td>\n",
       "    </tr>\n",
       "    <tr>\n",
       "      <th id=\"T_47b6b_level0_row1\" class=\"row_heading level0 row1\" >(7.91, 14.454]</th>\n",
       "      <td id=\"T_47b6b_row1_col0\" class=\"data row1 col0\" >0.303571</td>\n",
       "    </tr>\n",
       "    <tr>\n",
       "      <th id=\"T_47b6b_level0_row2\" class=\"row_heading level0 row2\" >(14.454, 31.0]</th>\n",
       "      <td id=\"T_47b6b_row2_col0\" class=\"data row2 col0\" >0.454955</td>\n",
       "    </tr>\n",
       "    <tr>\n",
       "      <th id=\"T_47b6b_level0_row3\" class=\"row_heading level0 row3\" >(31.0, 512.329]</th>\n",
       "      <td id=\"T_47b6b_row3_col0\" class=\"data row3 col0\" >0.581081</td>\n",
       "    </tr>\n",
       "  </tbody>\n",
       "</table>\n"
      ],
      "text/plain": [
       "<pandas.io.formats.style.Styler at 0x128b12d90>"
      ]
     },
     "execution_count": 39,
     "metadata": {},
     "output_type": "execute_result"
    }
   ],
   "source": [
    "df['rango_billete'] = pd.qcut(df['Fare'], 4)\n",
    "df.groupby(['rango_billete']) ['Survived'].mean().to_frame().style.background_gradient(cmap='summer_r')"
   ]
  },
  {
   "cell_type": "code",
   "execution_count": null,
   "metadata": {},
   "outputs": [],
   "source": []
  },
  {
   "cell_type": "code",
   "execution_count": 40,
   "metadata": {},
   "outputs": [
    {
     "name": "stdout",
     "output_type": "stream",
     "text": [
      "Cantidad de supervivientes que abonaron su billete más de 500usd: 3\n"
     ]
    }
   ],
   "source": [
    "sobrevivientes_boletos_caros = ((df['Fare']> 500) & (df['Survived']== 1)).sum()\n",
    "print('Cantidad de supervivientes que abonaron su billete más de 500usd:', sobrevivientes_boletos_caros)"
   ]
  },
  {
   "cell_type": "code",
   "execution_count": 41,
   "metadata": {},
   "outputs": [
    {
     "data": {
      "text/html": [
       "<div>\n",
       "<style scoped>\n",
       "    .dataframe tbody tr th:only-of-type {\n",
       "        vertical-align: middle;\n",
       "    }\n",
       "\n",
       "    .dataframe tbody tr th {\n",
       "        vertical-align: top;\n",
       "    }\n",
       "\n",
       "    .dataframe thead th {\n",
       "        text-align: right;\n",
       "    }\n",
       "</style>\n",
       "<table border=\"1\" class=\"dataframe\">\n",
       "  <thead>\n",
       "    <tr style=\"text-align: right;\">\n",
       "      <th></th>\n",
       "      <th>PassengerId</th>\n",
       "      <th>Survived</th>\n",
       "      <th>Pclass</th>\n",
       "      <th>Name</th>\n",
       "      <th>Sex</th>\n",
       "      <th>Age</th>\n",
       "      <th>SibSp</th>\n",
       "      <th>Parch</th>\n",
       "      <th>Ticket</th>\n",
       "      <th>Fare</th>\n",
       "      <th>Cabin</th>\n",
       "      <th>Embarked</th>\n",
       "      <th>rango_billete</th>\n",
       "    </tr>\n",
       "  </thead>\n",
       "  <tbody>\n",
       "    <tr>\n",
       "      <th>258</th>\n",
       "      <td>259</td>\n",
       "      <td>1</td>\n",
       "      <td>1</td>\n",
       "      <td>Ward, Miss. Anna</td>\n",
       "      <td>female</td>\n",
       "      <td>35.0</td>\n",
       "      <td>0</td>\n",
       "      <td>0</td>\n",
       "      <td>PC 17755</td>\n",
       "      <td>512.3292</td>\n",
       "      <td>NaN</td>\n",
       "      <td>C</td>\n",
       "      <td>(31.0, 512.329]</td>\n",
       "    </tr>\n",
       "    <tr>\n",
       "      <th>679</th>\n",
       "      <td>680</td>\n",
       "      <td>1</td>\n",
       "      <td>1</td>\n",
       "      <td>Cardeza, Mr. Thomas Drake Martinez</td>\n",
       "      <td>male</td>\n",
       "      <td>36.0</td>\n",
       "      <td>0</td>\n",
       "      <td>1</td>\n",
       "      <td>PC 17755</td>\n",
       "      <td>512.3292</td>\n",
       "      <td>B51 B53 B55</td>\n",
       "      <td>C</td>\n",
       "      <td>(31.0, 512.329]</td>\n",
       "    </tr>\n",
       "    <tr>\n",
       "      <th>737</th>\n",
       "      <td>738</td>\n",
       "      <td>1</td>\n",
       "      <td>1</td>\n",
       "      <td>Lesurer, Mr. Gustave J</td>\n",
       "      <td>male</td>\n",
       "      <td>35.0</td>\n",
       "      <td>0</td>\n",
       "      <td>0</td>\n",
       "      <td>PC 17755</td>\n",
       "      <td>512.3292</td>\n",
       "      <td>B101</td>\n",
       "      <td>C</td>\n",
       "      <td>(31.0, 512.329]</td>\n",
       "    </tr>\n",
       "  </tbody>\n",
       "</table>\n",
       "</div>"
      ],
      "text/plain": [
       "     PassengerId  Survived  Pclass                                Name  \\\n",
       "258          259         1       1                    Ward, Miss. Anna   \n",
       "679          680         1       1  Cardeza, Mr. Thomas Drake Martinez   \n",
       "737          738         1       1              Lesurer, Mr. Gustave J   \n",
       "\n",
       "        Sex   Age  SibSp  Parch    Ticket      Fare        Cabin Embarked  \\\n",
       "258  female  35.0      0      0  PC 17755  512.3292          NaN        C   \n",
       "679    male  36.0      0      1  PC 17755  512.3292  B51 B53 B55        C   \n",
       "737    male  35.0      0      0  PC 17755  512.3292         B101        C   \n",
       "\n",
       "       rango_billete  \n",
       "258  (31.0, 512.329]  \n",
       "679  (31.0, 512.329]  \n",
       "737  (31.0, 512.329]  "
      ]
     },
     "execution_count": 41,
     "metadata": {},
     "output_type": "execute_result"
    }
   ],
   "source": [
    "# chequeamos la cantidad de pasajeros que costeron estos boletos\n",
    "df.loc[df['Fare'] > 500 ]"
   ]
  },
  {
   "cell_type": "markdown",
   "metadata": {},
   "source": [
    "Los TRES pasajeron que abonaron los únicos tres boletos superiores a 500dls sobrevivieron"
   ]
  },
  {
   "cell_type": "markdown",
   "metadata": {},
   "source": [
    "## Análisis según Género de los supervivientes."
   ]
  },
  {
   "cell_type": "code",
   "execution_count": 42,
   "metadata": {},
   "outputs": [
    {
     "data": {
      "text/plain": [
       "PassengerId      233\n",
       "Survived         233\n",
       "Pclass           233\n",
       "Name             233\n",
       "Sex              233\n",
       "Age              197\n",
       "SibSp            233\n",
       "Parch            233\n",
       "Ticket           233\n",
       "Fare             233\n",
       "Cabin             91\n",
       "Embarked         231\n",
       "rango_billete    233\n",
       "dtype: int64"
      ]
     },
     "execution_count": 42,
     "metadata": {},
     "output_type": "execute_result"
    }
   ],
   "source": [
    "# Caracteristicas de los supervivientes\n",
    "df[(df.Sex == 'female') & (df.Survived == 1)].count()"
   ]
  },
  {
   "cell_type": "code",
   "execution_count": 43,
   "metadata": {},
   "outputs": [
    {
     "data": {
      "text/plain": [
       "PassengerId      109\n",
       "Survived         109\n",
       "Pclass           109\n",
       "Name             109\n",
       "Sex              109\n",
       "Age               93\n",
       "SibSp            109\n",
       "Parch            109\n",
       "Ticket           109\n",
       "Fare             109\n",
       "Cabin             45\n",
       "Embarked         109\n",
       "rango_billete    109\n",
       "dtype: int64"
      ]
     },
     "execution_count": 43,
     "metadata": {},
     "output_type": "execute_result"
    }
   ],
   "source": [
    "df[(df.Sex == 'male') & (df.Survived == 1)].count()"
   ]
  },
  {
   "cell_type": "markdown",
   "metadata": {},
   "source": [
    "### En términos **absolutos** sobrevivieron más **Mujeres**"
   ]
  },
  {
   "cell_type": "code",
   "execution_count": 44,
   "metadata": {},
   "outputs": [
    {
     "data": {
      "text/plain": [
       "PassengerId      314\n",
       "Survived         314\n",
       "Pclass           314\n",
       "Name             314\n",
       "Sex              314\n",
       "Age              261\n",
       "SibSp            314\n",
       "Parch            314\n",
       "Ticket           314\n",
       "Fare             314\n",
       "Cabin             97\n",
       "Embarked         312\n",
       "rango_billete    314\n",
       "dtype: int64"
      ]
     },
     "execution_count": 44,
     "metadata": {},
     "output_type": "execute_result"
    }
   ],
   "source": [
    "df[(df.Sex == 'female')].count()"
   ]
  },
  {
   "cell_type": "code",
   "execution_count": 45,
   "metadata": {},
   "outputs": [
    {
     "name": "stdout",
     "output_type": "stream",
     "text": [
      "Total de pasajeros mujeres: 314\n",
      "Total de mujeres sobrevivientes: 233\n",
      "Total de mujeres muertas: 81\n",
      "El total de mujeres sobrevivientes es del 74 %\n"
     ]
    }
   ],
   "source": [
    "# Guardamos en una variable el total de pasajeros mujeres.\n",
    "total_mujeres = df.Survived[(df.Sex == 'female')].count()\n",
    "print ('Total de pasajeros mujeres:', total_mujeres)\n",
    "\n",
    "# Guardamos el total de mujeres sobrevivientes.\n",
    "sobrevivientes_mujeres = df.Survived [(df.Sex == 'female') & (df.Survived == 1)].count()\n",
    "print('Total de mujeres sobrevivientes:', sobrevivientes_mujeres)\n",
    "\n",
    "muertes_mujeres = df.Survived [(df.Sex == 'female') & (df.Survived == 0)].count()\n",
    "print('Total de mujeres muertas:', muertes_mujeres)\n",
    "\n",
    "# Porcentaje de mujeres sobrevivientes\n",
    "total_mujeres_sobrevivientes = round(sobrevivientes_mujeres / total_mujeres * 100)\n",
    "print('El total de mujeres sobrevivientes es del', total_mujeres_sobrevivientes,'%')"
   ]
  },
  {
   "cell_type": "code",
   "execution_count": 46,
   "metadata": {},
   "outputs": [
    {
     "name": "stdout",
     "output_type": "stream",
     "text": [
      "Total de pasajeros hombres: 577\n",
      "Total de hombres sobrevivientes: 109\n",
      "Total de hombres muertos: 468\n",
      "El total de hombres sobrevivientes es de 19 %\n"
     ]
    }
   ],
   "source": [
    "# Guardamos en una variable el total de pasajeros mujeres.\n",
    "total_hombres = df.Survived[(df.Sex == 'male')].count()\n",
    "print ('Total de pasajeros hombres:', total_hombres)\n",
    "\n",
    "# Guardamos el total de mujeres sobrevivientes.\n",
    "sobrevivientes_hombres = df.Survived [(df.Sex == 'male') & (df.Survived == 1)].count()\n",
    "print('Total de hombres sobrevivientes:', sobrevivientes_hombres)\n",
    "\n",
    "muertes_hombres = df.Survived [(df.Sex == 'male') & (df.Survived == 0)].count()\n",
    "print('Total de hombres muertos:', muertes_hombres)\n",
    "\n",
    "total_hombres_sobrevivientes = round(df.Survived [(df.Sex == 'male') & (df.Survived == 1)].count() \n",
    "                                     / df.Survived [(df.Sex == 'male')].count() *100)\n",
    "\n",
    "print ( 'El total de hombres sobrevivientes es de', total_hombres_sobrevivientes,'%')"
   ]
  },
  {
   "cell_type": "markdown",
   "metadata": {},
   "source": [
    " En términos **relativos** las mujeres sobrevivieron en un 74% y los hombres en un 19%. Las mujeres fueron las primeras en llegar a los botes salvavidas"
   ]
  },
  {
   "cell_type": "code",
   "execution_count": 47,
   "metadata": {},
   "outputs": [
    {
     "data": {
      "image/png": "[encoded data removed]",
      "text/plain": [
       "<Figure size 1000x600 with 1 Axes>"
      ]
     },
     "metadata": {},
     "output_type": "display_data"
    }
   ],
   "source": [
    "# Grafico de barras representativo de muertes y fallecimientos según género\n",
    "# Los gráficos de barras apiladas representan los valores que toman ciertos grupos dentro de otros grupos.\n",
    "\n",
    "#agrandamos la figura\n",
    "plt.figure(figsize=(10,6))\n",
    "h_data = (muertes_hombres, sobrevivientes_hombres)\n",
    "m_data = (muertes_mujeres, sobrevivientes_mujeres)\n",
    "\n",
    "#Creamos las barras\n",
    "p1 = plt.bar(np.arange(2), (h_data), width = 0.4, color = \"#44a5c2\", edgecolor = \"black\", linewidth = 1)\n",
    "p2 = plt.bar(np.arange(2), (m_data), bottom = h_data, width = 0.4, color = \"#ffae49\", edgecolor = \"black\", linewidth = 1)\n",
    "\n",
    "# Agregamos Leyendas y Titulos al gráfico\n",
    "plt.xticks(np.arange(2),['Hombres', 'Mujeres'])\n",
    "plt.legend((p1[0],p2[0]), ('Muertes', 'Sobrevivientes'))\n",
    "plt.title('Hombres vs Mujeres Supervivientes')\n",
    "plt.show()"
   ]
  },
  {
   "cell_type": "markdown",
   "metadata": {},
   "source": [
    "# Análisis por Edad \n",
    "(Se agrupan las edad por rangos)\n",
    "\n",
    "* 0 = Niños\n",
    "* 1 = Jóvenes\n",
    "* 2 = Adultos\n",
    "* 3 = Adultos Mayores\n",
    "* 4 = Mayores"
   ]
  },
  {
   "cell_type": "code",
   "execution_count": 48,
   "metadata": {},
   "outputs": [
    {
     "data": {
      "text/html": [
       "<div>\n",
       "<style scoped>\n",
       "    .dataframe tbody tr th:only-of-type {\n",
       "        vertical-align: middle;\n",
       "    }\n",
       "\n",
       "    .dataframe tbody tr th {\n",
       "        vertical-align: top;\n",
       "    }\n",
       "\n",
       "    .dataframe thead th {\n",
       "        text-align: right;\n",
       "    }\n",
       "</style>\n",
       "<table border=\"1\" class=\"dataframe\">\n",
       "  <thead>\n",
       "    <tr style=\"text-align: right;\">\n",
       "      <th></th>\n",
       "      <th>PassengerId</th>\n",
       "      <th>Survived</th>\n",
       "      <th>Pclass</th>\n",
       "      <th>Name</th>\n",
       "      <th>Sex</th>\n",
       "      <th>Age</th>\n",
       "      <th>SibSp</th>\n",
       "      <th>Parch</th>\n",
       "      <th>Ticket</th>\n",
       "      <th>Fare</th>\n",
       "      <th>Cabin</th>\n",
       "      <th>Embarked</th>\n",
       "      <th>rango_billete</th>\n",
       "      <th>rango_edad</th>\n",
       "    </tr>\n",
       "  </thead>\n",
       "  <tbody>\n",
       "    <tr>\n",
       "      <th>0</th>\n",
       "      <td>1</td>\n",
       "      <td>0</td>\n",
       "      <td>3</td>\n",
       "      <td>Braund, Mr. Owen Harris</td>\n",
       "      <td>male</td>\n",
       "      <td>22.0</td>\n",
       "      <td>1</td>\n",
       "      <td>0</td>\n",
       "      <td>A/5 21171</td>\n",
       "      <td>7.2500</td>\n",
       "      <td>NaN</td>\n",
       "      <td>S</td>\n",
       "      <td>(-0.001, 7.91]</td>\n",
       "      <td>1</td>\n",
       "    </tr>\n",
       "    <tr>\n",
       "      <th>1</th>\n",
       "      <td>2</td>\n",
       "      <td>1</td>\n",
       "      <td>1</td>\n",
       "      <td>Cumings, Mrs. John Bradley (Florence Briggs Th...</td>\n",
       "      <td>female</td>\n",
       "      <td>38.0</td>\n",
       "      <td>1</td>\n",
       "      <td>0</td>\n",
       "      <td>PC 17599</td>\n",
       "      <td>71.2833</td>\n",
       "      <td>C85</td>\n",
       "      <td>C</td>\n",
       "      <td>(31.0, 512.329]</td>\n",
       "      <td>2</td>\n",
       "    </tr>\n",
       "    <tr>\n",
       "      <th>2</th>\n",
       "      <td>3</td>\n",
       "      <td>1</td>\n",
       "      <td>3</td>\n",
       "      <td>Heikkinen, Miss. Laina</td>\n",
       "      <td>female</td>\n",
       "      <td>26.0</td>\n",
       "      <td>0</td>\n",
       "      <td>0</td>\n",
       "      <td>STON/O2. 3101282</td>\n",
       "      <td>7.9250</td>\n",
       "      <td>NaN</td>\n",
       "      <td>S</td>\n",
       "      <td>(7.91, 14.454]</td>\n",
       "      <td>1</td>\n",
       "    </tr>\n",
       "    <tr>\n",
       "      <th>3</th>\n",
       "      <td>4</td>\n",
       "      <td>1</td>\n",
       "      <td>1</td>\n",
       "      <td>Futrelle, Mrs. Jacques Heath (Lily May Peel)</td>\n",
       "      <td>female</td>\n",
       "      <td>35.0</td>\n",
       "      <td>1</td>\n",
       "      <td>0</td>\n",
       "      <td>113803</td>\n",
       "      <td>53.1000</td>\n",
       "      <td>C123</td>\n",
       "      <td>S</td>\n",
       "      <td>(31.0, 512.329]</td>\n",
       "      <td>2</td>\n",
       "    </tr>\n",
       "    <tr>\n",
       "      <th>4</th>\n",
       "      <td>5</td>\n",
       "      <td>0</td>\n",
       "      <td>3</td>\n",
       "      <td>Allen, Mr. William Henry</td>\n",
       "      <td>male</td>\n",
       "      <td>35.0</td>\n",
       "      <td>0</td>\n",
       "      <td>0</td>\n",
       "      <td>373450</td>\n",
       "      <td>8.0500</td>\n",
       "      <td>NaN</td>\n",
       "      <td>S</td>\n",
       "      <td>(7.91, 14.454]</td>\n",
       "      <td>2</td>\n",
       "    </tr>\n",
       "  </tbody>\n",
       "</table>\n",
       "</div>"
      ],
      "text/plain": [
       "   PassengerId  Survived  Pclass  \\\n",
       "0            1         0       3   \n",
       "1            2         1       1   \n",
       "2            3         1       3   \n",
       "3            4         1       1   \n",
       "4            5         0       3   \n",
       "\n",
       "                                                Name     Sex   Age  SibSp  \\\n",
       "0                            Braund, Mr. Owen Harris    male  22.0      1   \n",
       "1  Cumings, Mrs. John Bradley (Florence Briggs Th...  female  38.0      1   \n",
       "2                             Heikkinen, Miss. Laina  female  26.0      0   \n",
       "3       Futrelle, Mrs. Jacques Heath (Lily May Peel)  female  35.0      1   \n",
       "4                           Allen, Mr. William Henry    male  35.0      0   \n",
       "\n",
       "   Parch            Ticket     Fare Cabin Embarked    rango_billete  \\\n",
       "0      0         A/5 21171   7.2500   NaN        S   (-0.001, 7.91]   \n",
       "1      0          PC 17599  71.2833   C85        C  (31.0, 512.329]   \n",
       "2      0  STON/O2. 3101282   7.9250   NaN        S   (7.91, 14.454]   \n",
       "3      0            113803  53.1000  C123        S  (31.0, 512.329]   \n",
       "4      0            373450   8.0500   NaN        S   (7.91, 14.454]   \n",
       "\n",
       "   rango_edad  \n",
       "0           1  \n",
       "1           2  \n",
       "2           1  \n",
       "3           2  \n",
       "4           2  "
      ]
     },
     "execution_count": 48,
     "metadata": {},
     "output_type": "execute_result"
    }
   ],
   "source": [
    "# Normalización. Nueva columna con rango edad\n",
    "df ['rango_edad'] = 0\n",
    "df.loc[ df['Age'] <= 16, 'rango_edad' ] = 0\n",
    "df.loc[ (df['Age'] > 16) & (df['Age'] <= 32), 'rango_edad' ] = 1\n",
    "df.loc[ (df['Age'] > 32) & (df['Age'] <= 48), 'rango_edad' ] = 2\n",
    "df.loc[ (df['Age'] > 48) & (df['Age'] <= 64), 'rango_edad' ] = 3\n",
    "df.loc[ df['Age'] > 64 ,'rango_edad' ] = 4\n",
    "\n",
    "df.head()"
   ]
  },
  {
   "cell_type": "code",
   "execution_count": 49,
   "metadata": {},
   "outputs": [
    {
     "data": {
      "text/html": [
       "<style type=\"text/css\">\n",
       "#T_b3bd0_row0_col0 {\n",
       "  background-color: #008066;\n",
       "  color: #f1f1f1;\n",
       "}\n",
       "#T_b3bd0_row1_col0 {\n",
       "  background-color: #349a66;\n",
       "  color: #f1f1f1;\n",
       "}\n",
       "#T_b3bd0_row2_col0 {\n",
       "  background-color: #78bc66;\n",
       "  color: #f1f1f1;\n",
       "}\n",
       "#T_b3bd0_row3_col0 {\n",
       "  background-color: #d3e966;\n",
       "  color: #000000;\n",
       "}\n",
       "#T_b3bd0_row4_col0 {\n",
       "  background-color: #ffff66;\n",
       "  color: #000000;\n",
       "}\n",
       "</style>\n",
       "<table id=\"T_b3bd0\">\n",
       "  <thead>\n",
       "    <tr>\n",
       "      <th class=\"blank level0\" >&nbsp;</th>\n",
       "      <th id=\"T_b3bd0_level0_col0\" class=\"col_heading level0 col0\" >count</th>\n",
       "    </tr>\n",
       "    <tr>\n",
       "      <th class=\"index_name level0\" >rango_edad</th>\n",
       "      <th class=\"blank col0\" >&nbsp;</th>\n",
       "    </tr>\n",
       "  </thead>\n",
       "  <tbody>\n",
       "    <tr>\n",
       "      <th id=\"T_b3bd0_level0_row0\" class=\"row_heading level0 row0\" >1</th>\n",
       "      <td id=\"T_b3bd0_row0_col0\" class=\"data row0 col0\" >346</td>\n",
       "    </tr>\n",
       "    <tr>\n",
       "      <th id=\"T_b3bd0_level0_row1\" class=\"row_heading level0 row1\" >0</th>\n",
       "      <td id=\"T_b3bd0_row1_col0\" class=\"data row1 col0\" >277</td>\n",
       "    </tr>\n",
       "    <tr>\n",
       "      <th id=\"T_b3bd0_level0_row2\" class=\"row_heading level0 row2\" >2</th>\n",
       "      <td id=\"T_b3bd0_row2_col0\" class=\"data row2 col0\" >188</td>\n",
       "    </tr>\n",
       "    <tr>\n",
       "      <th id=\"T_b3bd0_level0_row3\" class=\"row_heading level0 row3\" >3</th>\n",
       "      <td id=\"T_b3bd0_row3_col0\" class=\"data row3 col0\" >69</td>\n",
       "    </tr>\n",
       "    <tr>\n",
       "      <th id=\"T_b3bd0_level0_row4\" class=\"row_heading level0 row4\" >4</th>\n",
       "      <td id=\"T_b3bd0_row4_col0\" class=\"data row4 col0\" >11</td>\n",
       "    </tr>\n",
       "  </tbody>\n",
       "</table>\n"
      ],
      "text/plain": [
       "<pandas.io.formats.style.Styler at 0x128ce7d90>"
      ]
     },
     "execution_count": 49,
     "metadata": {},
     "output_type": "execute_result"
    }
   ],
   "source": [
    "# Cantidad de pasajeros según rango.\n",
    "df['rango_edad'].value_counts().to_frame().style.background_gradient(cmap='summer_r')"
   ]
  },
  {
   "cell_type": "code",
   "execution_count": 50,
   "metadata": {},
   "outputs": [
    {
     "data": {
      "image/png": "[encoded data removed]",
      "text/plain": [
       "<Figure size 557.75x500 with 1 Axes>"
      ]
     },
     "metadata": {},
     "output_type": "display_data"
    }
   ],
   "source": [
    "sns.catplot(x ='rango_edad', y ='Survived', data = df, hue= 'Pclass', kind='point')\n",
    "\n",
    "# Agregamos los títulos\n",
    "plt.title('Grado de Supervivencia según Rango Edad')\n",
    "plt.xlabel('Rangos de Edad')\n",
    "plt.ylabel('Porcentaje de Supervivencia')\n",
    "\n",
    "plt.show()"
   ]
  },
  {
   "cell_type": "markdown",
   "metadata": {},
   "source": [
    "Observamos que en las Tres Clases se priorizaron los menores, incluso en la Tercera clase donde el porcentaje de supervivencia es mucho menor.\n",
    "\n",
    "La tasa de supervivencia disminuye a medida que aumenta la edad, independientemente de la clase en que viajara el pasajero."
   ]
  },
  {
   "cell_type": "code",
   "execution_count": 51,
   "metadata": {},
   "outputs": [
    {
     "data": {
      "text/plain": [
       "44"
      ]
     },
     "execution_count": 51,
     "metadata": {},
     "output_type": "execute_result"
    }
   ],
   "source": [
    "# Tasa de supervivencia de los niños. Niños menores de 6 años\n",
    "total_ninios = df.Age[(df.Age < 6)].count()\n",
    "total_ninios"
   ]
  },
  {
   "cell_type": "code",
   "execution_count": 52,
   "metadata": {},
   "outputs": [
    {
     "data": {
      "text/plain": [
       "31"
      ]
     },
     "execution_count": 52,
     "metadata": {},
     "output_type": "execute_result"
    }
   ],
   "source": [
    "# Niños menores de 6 años sobreviviente\n",
    "total_sobrevivientes_ninios = df.Age[(df.Age < 6 ) & (df.Survived == 1)].count()\n",
    "total_sobrevivientes_ninios"
   ]
  },
  {
   "cell_type": "code",
   "execution_count": 53,
   "metadata": {},
   "outputs": [
    {
     "data": {
      "text/plain": [
       "PassengerId      13\n",
       "Survived         13\n",
       "Pclass           13\n",
       "Name             13\n",
       "Sex              13\n",
       "Age              13\n",
       "SibSp            13\n",
       "Parch            13\n",
       "Ticket           13\n",
       "Fare             13\n",
       "Cabin             2\n",
       "Embarked         13\n",
       "rango_billete    13\n",
       "rango_edad       13\n",
       "dtype: int64"
      ]
     },
     "execution_count": 53,
     "metadata": {},
     "output_type": "execute_result"
    }
   ],
   "source": [
    "df[(df.Age < 6) & (df.Survived == 0)].count()"
   ]
  },
  {
   "cell_type": "code",
   "execution_count": 54,
   "metadata": {},
   "outputs": [
    {
     "data": {
      "text/plain": [
       "70.45"
      ]
     },
     "execution_count": 54,
     "metadata": {},
     "output_type": "execute_result"
    }
   ],
   "source": [
    "sobrevivientes_ninios = round(total_sobrevivientes_ninios / total_ninios * 100, 2)\n",
    "sobrevivientes_ninios"
   ]
  },
  {
   "cell_type": "markdown",
   "metadata": {},
   "source": [
    "En términos **relativos** del total de niños menores de 6 años sobrevivió el 70%. "
   ]
  },
  {
   "cell_type": "markdown",
   "metadata": {},
   "source": [
    "## Análisis según zona de embarque"
   ]
  },
  {
   "cell_type": "code",
   "execution_count": 55,
   "metadata": {},
   "outputs": [
    {
     "data": {
      "image/png": "[encoded data removed]",
      "text/plain": [
       "<Figure size 1000x600 with 1 Axes>"
      ]
     },
     "metadata": {},
     "output_type": "display_data"
    }
   ],
   "source": [
    "# Usaremos solamente la columna de Embarked\n",
    "plt.figure(figsize=(10,6))\n",
    "sns.countplot(x = df['Embarked'])\n",
    "\n",
    "# Colocamos Títulos y Leyendas\n",
    "plt.title('Pasajeros por Zonas de embarque')\n",
    "plt.xlabel('Puerto')\n",
    "plt.ylabel('Cantidad de pasajeros')\n",
    "\n",
    "plt.xticks(np.arange(3),['Southampton', 'Cherbourg', 'Queenstown'])\n",
    "plt.show()"
   ]
  },
  {
   "cell_type": "markdown",
   "metadata": {},
   "source": [
    "Sobrevivientes según zona de embarque"
   ]
  },
  {
   "cell_type": "code",
   "execution_count": 56,
   "metadata": {},
   "outputs": [
    {
     "data": {
      "image/png": "[encoded data removed]",
      "text/plain": [
       "<Figure size 1000x600 with 1 Axes>"
      ]
     },
     "metadata": {},
     "output_type": "display_data"
    }
   ],
   "source": [
    "plt.figure(figsize=(10,6))\n",
    "sns.countplot(x = df['Embarked'], hue = df ['Survived'])\n",
    "\n",
    "# Colocamos Títulos y Leyendas\n",
    "plt.title('Fallecimientos y Sobrevivientes según Zonas de Embarque')\n",
    "plt.xlabel('Puerto')\n",
    "plt.ylabel('Cantidad de pasajeros')\n",
    "\n",
    "plt.xticks(np.arange(3),['Southampton', 'Cherbourg', 'Queenstown'])\n",
    "plt.legend ({'Fallecidos', 'Sobrevivientes'})\n",
    "plt.show()"
   ]
  }
 ],
 "metadata": {
  "kernelspec": {
   "display_name": "unicornenv",
   "language": "python",
   "name": "python3"
  },
  "language_info": {
   "codemirror_mode": {
    "name": "ipython",
    "version": 3
   },
   "file_extension": ".py",
   "mimetype": "text/x-python",
   "name": "python",
   "nbconvert_exporter": "python",
   "pygments_lexer": "ipython3",
   "version": "3.11.8"
  }
 },
 "nbformat": 4,
 "nbformat_minor": 2
}
